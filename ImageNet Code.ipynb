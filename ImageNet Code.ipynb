{
 "cells": [
  {
   "cell_type": "markdown",
   "metadata": {
    "colab": {},
    "colab_type": "code",
    "id": "_shpLBDP7bfr"
   },
   "source": [
    "#  Image Classification Using Deep CNNs"
   ]
  },
  {
   "cell_type": "markdown",
   "metadata": {},
   "source": [
    "## Importing the Relevant Libraries"
   ]
  },
  {
   "cell_type": "code",
   "execution_count": 1,
   "metadata": {},
   "outputs": [
    {
     "name": "stderr",
     "output_type": "stream",
     "text": [
      "Using TensorFlow backend.\n"
     ]
    }
   ],
   "source": [
    "import os\n",
    "import pandas as pd\n",
    "import numpy as np\n",
    "import seaborn as sns\n",
    "import matplotlib.pyplot as plt\n",
    "from matplotlib.image import imread\n",
    "# Technically not necessary in newest versions of jupyter\n",
    "%matplotlib inline\n",
    "\n",
    "import matplotlib.pyplot\n",
    "\n",
    "# This is used to manipulate the images given to generate more data artificially and generate batches of data\n",
    "from tensorflow.keras.preprocessing.image import ImageDataGenerator\n",
    "\n",
    "from tensorflow.keras.models import Sequential\n",
    "from tensorflow.keras.layers import Activation, Dropout, Flatten, Dense, Conv2D, MaxPooling2D \n",
    "import keras\n",
    "\n",
    "from tensorflow.keras.callbacks import EarlyStopping\n",
    "\n",
    "\n",
    "from tensorflow.keras.models import Sequential,load_model,Model\n",
    "from tensorflow.keras.callbacks import ModelCheckpoint,EarlyStopping\n",
    "from tensorflow.keras.initializers import *\n",
    "\n",
    "\n",
    "import tensorflow as tf \n",
    "global_average_layer = tf.keras.layers.GlobalAveragePooling2D()\n",
    "\n",
    "from tensorflow.keras.layers import Activation,Add, ZeroPadding2D, BatchNormalization, Flatten, Conv2D, MaxPooling2D, Dropout,GlobalAveragePooling2D"
   ]
  },
  {
   "cell_type": "markdown",
   "metadata": {},
   "source": [
    "## Specifying the Paths"
   ]
  },
  {
   "cell_type": "code",
   "execution_count": 2,
   "metadata": {
    "colab": {},
    "colab_type": "code",
    "id": "_shpLBDP7bfr"
   },
   "outputs": [],
   "source": [
    "my_data_dir = 'E:\\\\IIT K\\\\Project Image Classification\\\\image-detect'\n",
    "my_data_dir_train= \"E:\\\\IIT K\\\\Project Image Classification\\\\image-detect\\\\train\"\n",
    "\n",
    "\n",
    "val_path ='E:\\\\IIT K\\\\Project Image Classification\\\\image-detect\\\\val\\\\images\\\\'\n",
    "val_txt = 'E:\\\\IIT K\\\\Project Image Classification\\\\image-detect\\\\val\\\\val_annotations.txt'\n",
    "\n",
    "val_data = pd.read_csv('E:\\\\IIT K\\\\Project Image Classification\\\\image-detect\\\\val\\\\val_annotations.txt', sep='\\t', header=None, names=['File', 'Class', 'X', 'Y', 'H', 'W'])\n",
    "\n",
    "\n",
    "val_data.drop(['X', 'Y', 'H', 'W'], axis=1, inplace=True)\n",
    "val_data.head(3)\n",
    "\n",
    "\n",
    "test_path ='E:\\\\IIT K\\\\Project Image Classification\\\\image-detect\\\\test'\n",
    "\n",
    "\n",
    "#os.listdir(my_data_dir) "
   ]
  },
  {
   "cell_type": "markdown",
   "metadata": {},
   "source": [
    "## Reading the Image Files"
   ]
  },
  {
   "cell_type": "code",
   "execution_count": 3,
   "metadata": {},
   "outputs": [],
   "source": [
    "# A random image\n",
    "para_cell = my_data_dir+'\\\\train\\\\n01629819\\\\images\\\\'+ 'n01629819_0.JPEG'"
   ]
  },
  {
   "cell_type": "code",
   "execution_count": 4,
   "metadata": {},
   "outputs": [],
   "source": [
    "para_cell1 = my_data_dir+'\\\\test\\\\images\\\\'+ 'test_0.JPEG'"
   ]
  },
  {
   "cell_type": "code",
   "execution_count": 5,
   "metadata": {
    "colab": {},
    "colab_type": "code",
    "id": "HPtSF6P67bf_"
   },
   "outputs": [],
   "source": [
    "# Reading the image using matplotlib.imread\n",
    "para_img = imread(para_cell1)"
   ]
  },
  {
   "cell_type": "code",
   "execution_count": 6,
   "metadata": {},
   "outputs": [],
   "source": [
    "#plt.imshow(para_img )\n",
    "#para_img.shape"
   ]
  },
  {
   "cell_type": "code",
   "execution_count": 7,
   "metadata": {},
   "outputs": [],
   "source": [
    "image_shape = (128,128,3)"
   ]
  },
  {
   "cell_type": "code",
   "execution_count": 8,
   "metadata": {
    "colab": {},
    "colab_type": "code",
    "id": "IoMap55I7bg1"
   },
   "outputs": [],
   "source": [
    "image_gen = ImageDataGenerator(rotation_range=20, # rotate the image 20 degrees\n",
    "                               width_shift_range=0.10, # Shift the pic width by a max of 5%\n",
    "                               height_shift_range=0.10, # Shift the pic height by a max of 5%\n",
    "                               rescale=1/255, # Rescale the image by normalzing it.\n",
    "                               shear_range=0.1, # Shear means cutting away part of the image (max 10%)\n",
    "                               zoom_range=0.1, # Zoom in by 10% max\n",
    "                               horizontal_flip=True, # Allow horizontal flipping\n",
    "                               fill_mode='nearest',\n",
    "                               \n",
    "                               # Fill in missing pixels with the nearest filled value\n",
    "                               #brightness_range = [0.5,0.5]\n",
    "                              )"
   ]
  },
  {
   "cell_type": "code",
   "execution_count": 9,
   "metadata": {
    "colab": {
     "base_uri": "https://localhost:8080/",
     "height": 285
    },
    "colab_type": "code",
    "executionInfo": {
     "elapsed": 4302,
     "status": "ok",
     "timestamp": 1591104799313,
     "user": {
      "displayName": "Ayush Ranjan Gupta",
      "photoUrl": "https://lh3.googleusercontent.com/a-/AOh14GiT8LeqeXbAk8eD__kiKX0Ju1kL5mDJcSD_pYuqAw=s64",
      "userId": "02863060065181577665"
     },
     "user_tz": -330
    },
    "id": "2Jzehnj27bg4",
    "outputId": "504dd40f-1729-47cc-bdee-8c259b240cd0"
   },
   "outputs": [
    {
     "data": {
      "text/plain": [
       "<matplotlib.image.AxesImage at 0x215167f6fc8>"
      ]
     },
     "execution_count": 9,
     "metadata": {},
     "output_type": "execute_result"
    },
    {
     "data": {
      "image/png": "[encoded data removed]",
      "text/plain": [
       "<Figure size 432x288 with 1 Axes>"
      ]
     },
     "metadata": {
      "needs_background": "light"
     },
     "output_type": "display_data"
    }
   ],
   "source": [
    "# A random transformation of the image\n",
    "plt.imshow(image_gen.random_transform(para_img))"
   ]
  },
  {
   "cell_type": "code",
   "execution_count": 10,
   "metadata": {
    "colab": {},
    "colab_type": "code",
    "id": "VxIICHL67bhj"
   },
   "outputs": [],
   "source": [
    "early_stop = EarlyStopping(monitor='val_loss',patience=3)"
   ]
  },
  {
   "cell_type": "code",
   "execution_count": 11,
   "metadata": {
    "colab": {
     "base_uri": "https://localhost:8080/",
     "height": 34
    },
    "colab_type": "code",
    "executionInfo": {
     "elapsed": 2654,
     "status": "ok",
     "timestamp": 1591105375478,
     "user": {
      "displayName": "Ayush Ranjan Gupta",
      "photoUrl": "https://lh3.googleusercontent.com/a-/AOh14GiT8LeqeXbAk8eD__kiKX0Ju1kL5mDJcSD_pYuqAw=s64",
      "userId": "02863060065181577665"
     },
     "user_tz": -330
    },
    "id": "44JqJ_nB7bhw",
    "outputId": "95fcbfc9-6717-4f82-cd2e-f132ac8930ca"
   },
   "outputs": [
    {
     "name": "stdout",
     "output_type": "stream",
     "text": [
      "Found 90000 images belonging to 200 classes.\n"
     ]
    }
   ],
   "source": [
    "# This reads the given directory and treats the files as individual classes\n",
    "train_image_gen = image_gen.flow_from_directory(my_data_dir_train,\n",
    "                                                target_size=(200,200),\n",
    "                                                color_mode='rgb',\n",
    "                                                batch_size=32,\n",
    "                                                class_mode ='categorical'\n",
    "                                               )"
   ]
  },
  {
   "cell_type": "code",
   "execution_count": 12,
   "metadata": {},
   "outputs": [],
   "source": [
    "label_map = (train_image_gen.class_indices)\n",
    "#label_map"
   ]
  },
  {
   "cell_type": "code",
   "execution_count": 13,
   "metadata": {
    "colab": {
     "base_uri": "https://localhost:8080/",
     "height": 34
    },
    "colab_type": "code",
    "executionInfo": {
     "elapsed": 4180,
     "status": "ok",
     "timestamp": 1591105031180,
     "user": {
      "displayName": "Ayush Ranjan Gupta",
      "photoUrl": "https://lh3.googleusercontent.com/a-/AOh14GiT8LeqeXbAk8eD__kiKX0Ju1kL5mDJcSD_pYuqAw=s64",
      "userId": "02863060065181577665"
     },
     "user_tz": -330
    },
    "id": "dRJr3-y87bh2",
    "outputId": "a4ea074e-28a4-4c8b-bb45-f21ce1ddf8de"
   },
   "outputs": [
    {
     "name": "stdout",
     "output_type": "stream",
     "text": [
      "Found 10000 validated image filenames belonging to 200 classes.\n"
     ]
    }
   ],
   "source": [
    "val_image_gen = image_gen.flow_from_dataframe(val_data, \n",
    "                                              directory='E:\\\\IIT K\\\\Project Image Classification\\\\image-detect\\\\val\\\\images\\\\', \n",
    "                                              x_col='File', y_col='Class', \n",
    "                                              target_size=(200, 200),\n",
    "                                              color_mode='rgb', \n",
    "                                              class_mode='categorical', \n",
    "                                              batch_size=32, \n",
    "                                              shuffle=True, \n",
    "                                              )"
   ]
  },
  {
   "cell_type": "markdown",
   "metadata": {},
   "source": [
    "## Specifying the Base Model"
   ]
  },
  {
   "cell_type": "code",
   "execution_count": 14,
   "metadata": {},
   "outputs": [],
   "source": [
    "#base_model = tf.keras.applications.ResNet101V2(include_top=False, weights='imagenet',input_shape=(64,64,3), classes=200)\n",
    "\n",
    "base_model = tf.keras.applications.InceptionResNetV2(include_top=False, weights='imagenet',input_shape=(200,200,3), classes=200)\n"
   ]
  },
  {
   "cell_type": "code",
   "execution_count": 15,
   "metadata": {},
   "outputs": [],
   "source": [
    "vgg_output = base_model.output\n",
    "vgg_output  = GlobalAveragePooling2D()(vgg_output)\n",
    "\n",
    "output = tf.keras.layers.Dense(200, activation=\"softmax\")(vgg_output)\n",
    "model = tf.keras.models.Model(inputs=base_model.inputs, outputs=output)"
   ]
  },
  {
   "cell_type": "code",
   "execution_count": 16,
   "metadata": {},
   "outputs": [],
   "source": [
    "base_model.trainable = False"
   ]
  },
  {
   "cell_type": "markdown",
   "metadata": {},
   "source": [
    "## Model Compilation"
   ]
  },
  {
   "cell_type": "code",
   "execution_count": 17,
   "metadata": {},
   "outputs": [],
   "source": [
    "opt =tf.keras.optimizers.Adam(lr=0.00005)\n",
    "model.compile(optimizer=opt,loss='categorical_crossentropy',metrics=['accuracy'])"
   ]
  },
  {
   "cell_type": "markdown",
   "metadata": {},
   "source": [
    "## Model Fitting"
   ]
  },
  {
   "cell_type": "code",
   "execution_count": 19,
   "metadata": {},
   "outputs": [
    {
     "name": "stdout",
     "output_type": "stream",
     "text": [
      "WARNING:tensorflow:From <ipython-input-19-f5a0bad74b98>:3: Model.fit_generator (from tensorflow.python.keras.engine.training) is deprecated and will be removed in a future version.\n",
      "Instructions for updating:\n",
      "Please use Model.fit, which supports generators.\n",
      "Epoch 1/100\n",
      "2813/2813 [==============================] - 1183s 421ms/step - loss: 3.5808 - accuracy: 0.3025 - val_loss: 2.6018 - val_accuracy: 0.4529\n",
      "Epoch 2/100\n",
      "2813/2813 [==============================] - 1197s 426ms/step - loss: 2.4273 - accuracy: 0.4710 - val_loss: 2.2944 - val_accuracy: 0.4914\n",
      "Epoch 3/100\n",
      "2813/2813 [==============================] - 1209s 430ms/step - loss: 2.2184 - accuracy: 0.5020 - val_loss: 2.1654 - val_accuracy: 0.5094\n",
      "Epoch 4/100\n",
      "2813/2813 [==============================] - 1186s 422ms/step - loss: 2.1242 - accuracy: 0.5160 - val_loss: 2.1172 - val_accuracy: 0.5140\n",
      "Epoch 5/100\n",
      "2813/2813 [==============================] - 1588s 564ms/step - loss: 2.0579 - accuracy: 0.5277 - val_loss: 2.0690 - val_accuracy: 0.5254\n",
      "Epoch 6/100\n",
      "2813/2813 [==============================] - 1424s 506ms/step - loss: 2.0115 - accuracy: 0.5378 - val_loss: 2.0105 - val_accuracy: 0.5405\n",
      "Epoch 7/100\n",
      "2813/2813 [==============================] - 1087s 387ms/step - loss: 1.9752 - accuracy: 0.5418 - val_loss: 2.0027 - val_accuracy: 0.5383\n",
      "Epoch 8/100\n",
      "2813/2813 [==============================] - 1166s 415ms/step - loss: 1.9444 - accuracy: 0.5473 - val_loss: 1.9943 - val_accuracy: 0.5347\n",
      "Epoch 9/100\n",
      "2813/2813 [==============================] - 1274s 453ms/step - loss: 1.9160 - accuracy: 0.5530 - val_loss: 1.9614 - val_accuracy: 0.5480\n",
      "Epoch 10/100\n",
      "2813/2813 [==============================] - 1191s 424ms/step - loss: 1.9042 - accuracy: 0.5569 - val_loss: 1.9537 - val_accuracy: 0.5539\n",
      "Epoch 11/100\n",
      "2813/2813 [==============================] - 1474s 524ms/step - loss: 1.8774 - accuracy: 0.5592 - val_loss: 1.9395 - val_accuracy: 0.5541\n",
      "Epoch 12/100\n",
      "2813/2813 [==============================] - 1420s 505ms/step - loss: 1.8634 - accuracy: 0.5614 - val_loss: 1.9084 - val_accuracy: 0.5581\n",
      "Epoch 13/100\n",
      "2813/2813 [==============================] - 1241s 441ms/step - loss: 1.8451 - accuracy: 0.5650 - val_loss: 1.9297 - val_accuracy: 0.5525\n",
      "Epoch 14/100\n",
      "2813/2813 [==============================] - 1302s 463ms/step - loss: 1.8312 - accuracy: 0.5677 - val_loss: 1.9207 - val_accuracy: 0.5582\n",
      "Epoch 15/100\n",
      "2813/2813 [==============================] - 991s 352ms/step - loss: 1.8147 - accuracy: 0.5711 - val_loss: 1.9077 - val_accuracy: 0.5558\n",
      "Epoch 16/100\n",
      "2813/2813 [==============================] - 1092s 388ms/step - loss: 1.8073 - accuracy: 0.5739 - val_loss: 1.8903 - val_accuracy: 0.5590\n",
      "Epoch 17/100\n",
      "2813/2813 [==============================] - 1144s 407ms/step - loss: 1.7939 - accuracy: 0.5754 - val_loss: 1.8676 - val_accuracy: 0.5584\n",
      "Epoch 18/100\n",
      "2813/2813 [==============================] - 898s 319ms/step - loss: 1.7852 - accuracy: 0.5770 - val_loss: 1.8805 - val_accuracy: 0.5631\n",
      "Epoch 19/100\n",
      "2813/2813 [==============================] - 901s 320ms/step - loss: 1.7763 - accuracy: 0.5793 - val_loss: 1.8504 - val_accuracy: 0.5685\n",
      "Epoch 20/100\n",
      "2813/2813 [==============================] - 901s 320ms/step - loss: 1.7712 - accuracy: 0.5788 - val_loss: 1.8650 - val_accuracy: 0.5677\n",
      "Epoch 21/100\n",
      "2813/2813 [==============================] - 906s 322ms/step - loss: 1.7615 - accuracy: 0.5816 - val_loss: 1.8742 - val_accuracy: 0.5615\n",
      "Epoch 22/100\n",
      "2813/2813 [==============================] - 911s 324ms/step - loss: 1.7543 - accuracy: 0.5821 - val_loss: 1.8791 - val_accuracy: 0.5639\n"
     ]
    }
   ],
   "source": [
    "results = model.fit_generator(train_image_gen, epochs=100,\n",
    "                              validation_data=val_image_gen,\n",
    "                              callbacks=[early_stop])"
   ]
  },
  {
   "cell_type": "markdown",
   "metadata": {},
   "source": [
    "## Saving the Model"
   ]
  },
  {
   "cell_type": "code",
   "execution_count": 20,
   "metadata": {},
   "outputs": [
    {
     "name": "stdout",
     "output_type": "stream",
     "text": [
      "export_path = E:\\IIT K\\Project Image Classification\\73\n",
      "\n",
      "WARNING:tensorflow:From C:\\Users\\eless\\anaconda3\\lib\\site-packages\\tensorflow\\python\\training\\tracking\\tracking.py:111: Model.state_updates (from tensorflow.python.keras.engine.training) is deprecated and will be removed in a future version.\n",
      "Instructions for updating:\n",
      "This property should not be used in TensorFlow 2.0, as updates are applied automatically.\n",
      "WARNING:tensorflow:From C:\\Users\\eless\\anaconda3\\lib\\site-packages\\tensorflow\\python\\training\\tracking\\tracking.py:111: Layer.updates (from tensorflow.python.keras.engine.base_layer) is deprecated and will be removed in a future version.\n",
      "Instructions for updating:\n",
      "This property should not be used in TensorFlow 2.0, as updates are applied automatically.\n",
      "INFO:tensorflow:Assets written to: E:\\IIT K\\Project Image Classification\\73\\assets\n"
     ]
    }
   ],
   "source": [
    "version = 73\n",
    "export_path = os.path.join('E:\\\\IIT K\\\\Project Image Classification\\\\', str(version))\n",
    "print('export_path = {}\\n'.format(export_path))\n",
    "\n",
    "tf.keras.models.save_model(\n",
    "    model,\n",
    "    export_path,\n",
    "    overwrite=True,\n",
    "    include_optimizer=True,\n",
    "    save_format=None,\n",
    "    signatures=None,\n",
    "    options=None\n",
    ")"
   ]
  },
  {
   "cell_type": "markdown",
   "metadata": {},
   "source": [
    " ## Estimating Loses and Plotting"
   ]
  },
  {
   "cell_type": "code",
   "execution_count": 21,
   "metadata": {
    "colab": {},
    "colab_type": "code",
    "id": "3bMcUoihh844"
   },
   "outputs": [],
   "source": [
    "losses = pd.DataFrame(model.history.history)"
   ]
  },
  {
   "cell_type": "code",
   "execution_count": 22,
   "metadata": {
    "colab": {
     "base_uri": "https://localhost:8080/",
     "height": 283
    },
    "colab_type": "code",
    "executionInfo": {
     "elapsed": 2056,
     "status": "ok",
     "timestamp": 1591107221760,
     "user": {
      "displayName": "Ayush Ranjan Gupta",
      "photoUrl": "https://lh3.googleusercontent.com/a-/AOh14GiT8LeqeXbAk8eD__kiKX0Ju1kL5mDJcSD_pYuqAw=s64",
      "userId": "02863060065181577665"
     },
     "user_tz": -330
    },
    "id": "MxeVBo3FiDGO",
    "outputId": "3633158d-f686-490a-ac40-5d4d40a727b9"
   },
   "outputs": [
    {
     "data": {
      "text/plain": [
       "<matplotlib.axes._subplots.AxesSubplot at 0x216a0897788>"
      ]
     },
     "execution_count": 22,
     "metadata": {},
     "output_type": "execute_result"
    },
    {
     "data": {
      "image/png": "[encoded data removed]",
      "text/plain": [
       "<Figure size 432x288 with 1 Axes>"
      ]
     },
     "metadata": {
      "needs_background": "light"
     },
     "output_type": "display_data"
    }
   ],
   "source": [
    "losses[['val_loss','loss']].plot()"
   ]
  },
  {
   "cell_type": "code",
   "execution_count": 30,
   "metadata": {},
   "outputs": [
    {
     "data": {
      "text/plain": [
       "<matplotlib.axes._subplots.AxesSubplot at 0x2169f280208>"
      ]
     },
     "execution_count": 30,
     "metadata": {},
     "output_type": "execute_result"
    },
    {
     "data": {
      "image/png": "[encoded data removed]",
      "text/plain": [
       "<Figure size 432x288 with 1 Axes>"
      ]
     },
     "metadata": {
      "needs_background": "light"
     },
     "output_type": "display_data"
    }
   ],
   "source": [
    "losses[['val_accuracy','accuracy']].plot()"
   ]
  },
  {
   "cell_type": "markdown",
   "metadata": {},
   "source": [
    "## Generating the Test Image Data for the Model"
   ]
  },
  {
   "cell_type": "code",
   "execution_count": 23,
   "metadata": {
    "scrolled": true
   },
   "outputs": [
    {
     "name": "stdout",
     "output_type": "stream",
     "text": [
      "Found 10000 images belonging to 1 classes.\n"
     ]
    }
   ],
   "source": [
    "test_image_gen = image_gen.flow_from_directory(test_path,\n",
    "                                                target_size=(200,200),\n",
    "                                                color_mode='rgb',\n",
    "                                                class_mode =None,\n",
    "                                                shuffle=False, \n",
    "                                               )"
   ]
  },
  {
   "cell_type": "code",
   "execution_count": 24,
   "metadata": {},
   "outputs": [],
   "source": [
    "image_names = os.listdir(\"E:\\\\IIT K\\\\Project Image Classification\\\\image-detect\\\\test\\\\images\") \n",
    "#image_names"
   ]
  },
  {
   "cell_type": "markdown",
   "metadata": {},
   "source": [
    "## Test Predictions"
   ]
  },
  {
   "cell_type": "code",
   "execution_count": 25,
   "metadata": {
    "scrolled": true
   },
   "outputs": [],
   "source": [
    "test_predictions = model.predict(test_image_gen)"
   ]
  },
  {
   "cell_type": "code",
   "execution_count": 26,
   "metadata": {},
   "outputs": [
    {
     "name": "stdout",
     "output_type": "stream",
     "text": [
      "[133  40 159 ... 135  19  61]\n"
     ]
    }
   ],
   "source": [
    "y_classes = test_predictions.argmax(axis=-1)\n",
    "print(y_classes)"
   ]
  },
  {
   "cell_type": "code",
   "execution_count": 27,
   "metadata": {},
   "outputs": [],
   "source": [
    "label_map = dict((v,k) for k,v in label_map.items()) #flip k,v\n",
    "predictions = [label_map[k] for k in y_classes]"
   ]
  },
  {
   "cell_type": "markdown",
   "metadata": {},
   "source": [
    "## Saving the Text File "
   ]
  },
  {
   "cell_type": "code",
   "execution_count": 28,
   "metadata": {},
   "outputs": [],
   "source": [
    "outfile = open('test77_ML.txt','w')\n",
    "\n",
    "for i in range(len(image_names)):\n",
    "    outp1 = image_names[i]\n",
    "    outp2 = \",\"\n",
    "    outp3 = predictions[i]\n",
    "    outp = str(outp1) + outp2 + str(outp3) + \"\\n\"\n",
    "\n",
    "    outfile.write(outp)\n",
    "\n",
    "outfile.close()"
   ]
  },
  {
   "cell_type": "code",
   "execution_count": 29,
   "metadata": {},
   "outputs": [],
   "source": [
    "#print(predictions)"
   ]
  },
  {
   "cell_type": "code",
   "execution_count": null,
   "metadata": {},
   "outputs": [],
   "source": []
  }
 ],
 "metadata": {
  "kernelspec": {
   "display_name": "Python 3",
   "language": "python",
   "name": "python3"
  },
  "language_info": {
   "codemirror_mode": {
    "name": "ipython",
    "version": 3
   },
   "file_extension": ".py",
   "mimetype": "text/x-python",
   "name": "python",
   "nbconvert_exporter": "python",
   "pygments_lexer": "ipython3",
   "version": "3.7.6"
  }
 },
 "nbformat": 4,
 "nbformat_minor": 4
}
